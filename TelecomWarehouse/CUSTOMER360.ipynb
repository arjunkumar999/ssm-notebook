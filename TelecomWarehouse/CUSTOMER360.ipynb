{
 "cells": [
  {
   "cell_type": "markdown",
   "id": "732ce740",
   "metadata": {},
   "source": [
    "This Query is created by user whiteklay"
   ]
  },
  {
   "cell_type": "code",
   "execution_count": 2,
   "id": "64ceb1ac",
   "metadata": {},
   "outputs": [],
   "source": [
    "%%hive_spark\n",
    "```sql\n",
    "SELECT billing_data.customer_id AS customer_id, \n",
    "       billing_data.billing_date AS billing_date, \n",
    "       crm_data.interaction_type AS interaction_type, \n",
    "       crm_data.customer_satisfaction_rating AS satisfaction \n",
    "FROM billing_data \n",
    "  LEFT JOIN crm_data ON billing_data.customer_id = crm_data.customer_id\n",
    "```"
   ]
  }
 ],
 "metadata": {},
 "nbformat": 4,
 "nbformat_minor": 5
}
