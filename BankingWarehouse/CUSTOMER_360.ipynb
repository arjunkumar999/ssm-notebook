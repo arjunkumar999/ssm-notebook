{
 "cells": [
  {
   "cell_type": "markdown",
   "id": "b51e9613",
   "metadata": {},
   "source": [
    "This Query is created by user whiteklay"
   ]
  },
  {
   "cell_type": "code",
   "execution_count": 2,
   "id": "daa170e3",
   "metadata": {},
   "outputs": [],
   "source": [
    "%%hive_spark\n",
    "SELECT \n",
    "    Customers.Customer_ID AS Customer_ID, \n",
    "    CONCAT(Customers.First_Name, ' ', Customers.Last_Name) AS Name, \n",
    "    Accounts.account_id AS Account_ID, \n",
    "    Customers.Phone_Number AS Phone_number \n",
    "FROM \n",
    "    Customers \n",
    "    LEFT JOIN Accounts ON Customers.Customer_ID = Accounts.customer_id"
   ]
  }
 ],
 "metadata": {},
 "nbformat": 4,
 "nbformat_minor": 5
}
