{
 "cells": [
  {
   "cell_type": "markdown",
   "id": "d23b5c16",
   "metadata": {},
   "source": [
    "This Query is created by user whiteklay"
   ]
  },
  {
   "cell_type": "code",
   "execution_count": 2,
   "id": "2027d05f",
   "metadata": {},
   "outputs": [],
   "source": [
    "%%hive_spark\n",
    "SELECT customers.customer_id AS Customer_ID, \n",
    "       CONCAT(customers.first_name, ' ', customers.last_name) AS Name, \n",
    "       customers.age AS Age, \n",
    "       customers.gender AS Gender, \n",
    "       accounts.account_id AS Account_ID, \n",
    "       accounts.account_type AS Account_Type \n",
    "FROM customers \n",
    "  LEFT JOIN accounts ON customers.customer_id = accounts.customer_id"
   ]
  }
 ],
 "metadata": {},
 "nbformat": 4,
 "nbformat_minor": 5
}
