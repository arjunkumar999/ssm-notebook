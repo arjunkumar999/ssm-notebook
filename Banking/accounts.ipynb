{
 "cells": [
  {
   "cell_type": "markdown",
   "id": "7a94bd51",
   "metadata": {},
   "source": [
    "This Query is created by user whiteklay"
   ]
  },
  {
   "cell_type": "code",
   "execution_count": 2,
   "id": "66dc052d",
   "metadata": {},
   "outputs": [],
   "source": [
    "%%hive_spark\n",
    "WITH intermediaries AS (\n",
    "    SELECT \n",
    "        PCOM_CUSTOMER.CUST_CODE AS intermediary_code,\n",
    "        PCOM_CUSTOMER.CUST_NAME AS intermediary_name,\n",
    "        CASE \n",
    "            WHEN DATEDIFF(DAY, vo_login.aml_acknowledged_timestamp, GETDATE()) >= 365 THEN 'Yes'\n",
    "            ELSE 'No'\n",
    "        END AS due_aml_training,\n",
    "        'D-1' AS reported_date,\n",
    "        GETDATE() AS load_timestamp\n",
    "    FROM PCOM_CUSTOMER\n",
    "    LEFT JOIN T_RPDB_POL_PARTY \n",
    "        ON LEFT(PCOM_CUSTOMER.CUST_CODE, 2) = T_RPDB_POL_PARTY.cust_code\n",
    "    LEFT JOIN vo_login \n",
    "        ON T_RPDB_POL_PARTY.party_code = vo_login.is_aml_acknowledged\n",
    "),\n",
    "\n",
    "fulfillers AS (\n",
    "    SELECT \n",
    "        MAX(agg_policy_master_report_daily.policy_from_date) AS max_policy_from_date\n",
    "    FROM agg_policy_master_report_daily\n",
    "    WHERE intermediary_code = agg_policy_master_report_daily.fufiller_code\n",
    ")\n",
    "\n",
    "SELECT \n",
    "    intermediaries.intermediary_code,\n",
    "    intermediaries.intermediary_name,\n",
    "    intermediaries.due_aml_training,\n",
    "    intermediaries.reported_date,\n",
    "    intermediaries.load_timestamp,\n",
    "    agg_policy_master_report_daily.fufiller_code,\n",
    "    agg_policy_master_report_daily.fulfiller_name,\n",
    "    agg_policy_master_report_daily.office_code,\n",
    "    agg_policy_master_report_daily.office_name,\n",
    "    agg_policy_master_report_daily.zone_name,\n",
    "    agg_policy_master_report_daily.mkt_zone_name\n",
    "FROM intermediaries\n",
    "LEFT JOIN agg_policy_master_report_daily \n",
    "    ON intermediaries.intermediary_code = agg_policy_master_report_daily.fufiller_code\n",
    "    AND intermediaries.max_policy_from_date = agg_policy_master_report_daily.policy_from_date"
   ]
  }
 ],
 "metadata": {},
 "nbformat": 4,
 "nbformat_minor": 5
}
