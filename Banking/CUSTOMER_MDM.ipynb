{
 "cells": [
  {
   "cell_type": "markdown",
   "id": "9a431163",
   "metadata": {},
   "source": [
    "This Query is created by user whiteklay"
   ]
  },
  {
   "cell_type": "code",
   "execution_count": 2,
   "id": "b15735cf",
   "metadata": {},
   "outputs": [],
   "source": [
    "%%hive_spark\n",
    "{\"descriptions\":[{\"table\":\"customers\",\"column\":\"customer_id\",\"description\":\"direct mapping\"},{\"table\":\"customers\",\"column\":\"first_name\",\"description\":\"concatenate first_name and last_name\"},{\"table\":\"customers\",\"column\":\"age\",\"description\":\"direct mapping\"},{\"table\":\"customers\",\"column\":\"gender\",\"description\":\"convert into uppercase\"},{\"table\":\"accounts\",\"column\":\"account_id\",\"description\":\"LEFT JOIN Accounts with Customers on customer_id\"},{\"table\":\"accounts\",\"column\":\"account_type\",\"description\":\"direct mapping\"}]}"
   ]
  }
 ],
 "metadata": {},
 "nbformat": 4,
 "nbformat_minor": 5
}
