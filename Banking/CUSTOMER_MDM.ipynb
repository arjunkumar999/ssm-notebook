{
 "cells": [
  {
   "cell_type": "markdown",
   "id": "75cc5750",
   "metadata": {},
   "source": [
    "This Query is created by user whiteklay"
   ]
  },
  {
   "cell_type": "code",
   "execution_count": 2,
   "id": "abbd4a66",
   "metadata": {},
   "outputs": [],
   "source": [
    "%%hive_spark\n",
    "```sql\n",
    "WITH customers AS (\n",
    "    SELECT customer_id, \n",
    "           CONCAT(first_name, ' ', last_name) AS Name, \n",
    "           age, \n",
    "           UPPER(gender) AS Gender \n",
    "    FROM customers\n",
    ")\n",
    "SELECT customers.customer_id AS Customer_ID, \n",
    "       customers.Name, \n",
    "       customers.age AS Age, \n",
    "       customers.Gender, \n",
    "       accounts.account_id AS Account_ID, \n",
    "       accounts.account_type AS Account_Type \n",
    "FROM customers\n",
    "  LEFT JOIN accounts ON customers.customer_id = accounts.customer_id;\n",
    "```"
   ]
  }
 ],
 "metadata": {},
 "nbformat": 4,
 "nbformat_minor": 5
}
